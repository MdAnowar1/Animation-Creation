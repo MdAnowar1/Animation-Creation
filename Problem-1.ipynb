{
  "nbformat": 4,
  "nbformat_minor": 0,
  "metadata": {
    "colab": {
      "provenance": [],
      "toc_visible": true,
      "authorship_tag": "ABX9TyMm/0tM4e3dsUbApVJ0FM0h",
      "include_colab_link": true
    },
    "kernelspec": {
      "name": "python3",
      "display_name": "Python 3"
    },
    "language_info": {
      "name": "python"
    }
  },
  "cells": [
    {
      "cell_type": "markdown",
      "metadata": {
        "id": "view-in-github",
        "colab_type": "text"
      },
      "source": [
        "<a href=\"https://colab.research.google.com/github/MdAnowar1/Animation-Creation/blob/main/Problem-1.ipynb\" target=\"_parent\"><img src=\"https://colab.research.google.com/assets/colab-badge.svg\" alt=\"Open In Colab\"/></a>"
      ]
    },
    {
      "cell_type": "code",
      "source": [
        "first_name = input(\"Please Enter Your First Name: \")\n",
        "last_name = input(\"Please Enter Your Last Name: \")\n",
        "full_name = first_name + \" \" + last_name\n",
        "print(\"Hello, \" + full_name + \"!\")"
      ],
      "metadata": {
        "colab": {
          "base_uri": "https://localhost:8080/"
        },
        "id": "Uj46FyIL3aE8",
        "outputId": "c9b12693-44f5-4d57-bcff-a50e8a3ed8e8"
      },
      "execution_count": 5,
      "outputs": [
        {
          "output_type": "stream",
          "name": "stdout",
          "text": [
            "Please Enter Your First Name: Muhammad\n",
            "Please Enter Your Last Name: Anowar\n",
            "Hello, Muhammad Anowar!\n"
          ]
        }
      ]
    }
  ]
}